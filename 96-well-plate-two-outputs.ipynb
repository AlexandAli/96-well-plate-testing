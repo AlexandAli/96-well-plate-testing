{
 "cells": [
  {
   "cell_type": "markdown",
   "metadata": {},
   "source": [
    "# 96-well plate analysis:\n",
    "## Graphical representation of two parameters\n",
    "\n",
    "I need to create a plot that is mostly colorblind friendly that can display a 96-well plate that has two measured values.\n",
    "\n",
    "Import relevant modules."
   ]
  },
  {
   "cell_type": "code",
   "execution_count": 1,
   "metadata": {},
   "outputs": [],
   "source": [
    "import pandas as pd\n",
    "import seaborn as sns\n",
    "import numpy as np\n",
    "import matplotlib.pyplot as plt\n",
    "from matplotlib.lines import Line2D\n",
    "from mpl_toolkits.axes_grid1.inset_locator import inset_axes\n",
    "\n",
    "%matplotlib inline"
   ]
  },
  {
   "cell_type": "markdown",
   "metadata": {},
   "source": [
    "Define the file name and import the relevant data from the file"
   ]
  },
  {
   "cell_type": "code",
   "execution_count": 2,
   "metadata": {},
   "outputs": [
    {
     "data": {
      "text/html": [
       "<div>\n",
       "<style scoped>\n",
       "    .dataframe tbody tr th:only-of-type {\n",
       "        vertical-align: middle;\n",
       "    }\n",
       "\n",
       "    .dataframe tbody tr th {\n",
       "        vertical-align: top;\n",
       "    }\n",
       "\n",
       "    .dataframe thead th {\n",
       "        text-align: right;\n",
       "    }\n",
       "</style>\n",
       "<table border=\"1\" class=\"dataframe\">\n",
       "  <thead>\n",
       "    <tr style=\"text-align: right;\">\n",
       "      <th></th>\n",
       "      <th>Well</th>\n",
       "      <th>FL-T</th>\n",
       "      <th>FL-K</th>\n",
       "    </tr>\n",
       "  </thead>\n",
       "  <tbody>\n",
       "    <tr>\n",
       "      <th>0</th>\n",
       "      <td>A1</td>\n",
       "      <td>10.000000</td>\n",
       "      <td>9.280000</td>\n",
       "    </tr>\n",
       "    <tr>\n",
       "      <th>1</th>\n",
       "      <td>A2</td>\n",
       "      <td>5.987886</td>\n",
       "      <td>1.009489</td>\n",
       "    </tr>\n",
       "    <tr>\n",
       "      <th>2</th>\n",
       "      <td>A3</td>\n",
       "      <td>6.725146</td>\n",
       "      <td>0.681101</td>\n",
       "    </tr>\n",
       "    <tr>\n",
       "      <th>3</th>\n",
       "      <td>A4</td>\n",
       "      <td>7.775689</td>\n",
       "      <td>5.509620</td>\n",
       "    </tr>\n",
       "    <tr>\n",
       "      <th>4</th>\n",
       "      <td>A5</td>\n",
       "      <td>7.456140</td>\n",
       "      <td>0.985164</td>\n",
       "    </tr>\n",
       "  </tbody>\n",
       "</table>\n",
       "</div>"
      ],
      "text/plain": [
       "  Well       FL-T      FL-K\n",
       "0   A1  10.000000  9.280000\n",
       "1   A2   5.987886  1.009489\n",
       "2   A3   6.725146  0.681101\n",
       "3   A4   7.775689  5.509620\n",
       "4   A5   7.456140  0.985164"
      ]
     },
     "execution_count": 2,
     "metadata": {},
     "output_type": "execute_result"
    }
   ],
   "source": [
    "test1 = \"Test-linear-96-only.xlsx\" \n",
    "\n",
    "df1 = pd.read_excel(test1, 'Sheet2') \n",
    "\n",
    "df1.head()"
   ]
  },
  {
   "cell_type": "markdown",
   "metadata": {},
   "source": [
    "Split the alpha-numberic representation of the wells into the labels for rows and wells.\n",
    "\n",
    "The letters are always capitalized, so the regex phrase is simplified."
   ]
  },
  {
   "cell_type": "code",
   "execution_count": 3,
   "metadata": {},
   "outputs": [
    {
     "data": {
      "text/html": [
       "<div>\n",
       "<style scoped>\n",
       "    .dataframe tbody tr th:only-of-type {\n",
       "        vertical-align: middle;\n",
       "    }\n",
       "\n",
       "    .dataframe tbody tr th {\n",
       "        vertical-align: top;\n",
       "    }\n",
       "\n",
       "    .dataframe thead th {\n",
       "        text-align: right;\n",
       "    }\n",
       "</style>\n",
       "<table border=\"1\" class=\"dataframe\">\n",
       "  <thead>\n",
       "    <tr style=\"text-align: right;\">\n",
       "      <th></th>\n",
       "      <th>Well</th>\n",
       "      <th>FL-T</th>\n",
       "      <th>FL-K</th>\n",
       "      <th>Row</th>\n",
       "      <th>Column</th>\n",
       "    </tr>\n",
       "  </thead>\n",
       "  <tbody>\n",
       "    <tr>\n",
       "      <th>0</th>\n",
       "      <td>A1</td>\n",
       "      <td>10.000000</td>\n",
       "      <td>9.280000</td>\n",
       "      <td>A</td>\n",
       "      <td>1</td>\n",
       "    </tr>\n",
       "    <tr>\n",
       "      <th>1</th>\n",
       "      <td>A2</td>\n",
       "      <td>5.987886</td>\n",
       "      <td>1.009489</td>\n",
       "      <td>A</td>\n",
       "      <td>2</td>\n",
       "    </tr>\n",
       "    <tr>\n",
       "      <th>2</th>\n",
       "      <td>A3</td>\n",
       "      <td>6.725146</td>\n",
       "      <td>0.681101</td>\n",
       "      <td>A</td>\n",
       "      <td>3</td>\n",
       "    </tr>\n",
       "    <tr>\n",
       "      <th>3</th>\n",
       "      <td>A4</td>\n",
       "      <td>7.775689</td>\n",
       "      <td>5.509620</td>\n",
       "      <td>A</td>\n",
       "      <td>4</td>\n",
       "    </tr>\n",
       "    <tr>\n",
       "      <th>4</th>\n",
       "      <td>A5</td>\n",
       "      <td>7.456140</td>\n",
       "      <td>0.985164</td>\n",
       "      <td>A</td>\n",
       "      <td>5</td>\n",
       "    </tr>\n",
       "    <tr>\n",
       "      <th>5</th>\n",
       "      <td>A6</td>\n",
       "      <td>8.757310</td>\n",
       "      <td>13.699858</td>\n",
       "      <td>A</td>\n",
       "      <td>6</td>\n",
       "    </tr>\n",
       "    <tr>\n",
       "      <th>6</th>\n",
       "      <td>A7</td>\n",
       "      <td>6.288638</td>\n",
       "      <td>11.114107</td>\n",
       "      <td>A</td>\n",
       "      <td>7</td>\n",
       "    </tr>\n",
       "    <tr>\n",
       "      <th>7</th>\n",
       "      <td>A8</td>\n",
       "      <td>8.485798</td>\n",
       "      <td>1.751402</td>\n",
       "      <td>A</td>\n",
       "      <td>8</td>\n",
       "    </tr>\n",
       "    <tr>\n",
       "      <th>8</th>\n",
       "      <td>A9</td>\n",
       "      <td>7.113617</td>\n",
       "      <td>0.958406</td>\n",
       "      <td>A</td>\n",
       "      <td>9</td>\n",
       "    </tr>\n",
       "    <tr>\n",
       "      <th>9</th>\n",
       "      <td>A10</td>\n",
       "      <td>6.246867</td>\n",
       "      <td>11.610338</td>\n",
       "      <td>A</td>\n",
       "      <td>10</td>\n",
       "    </tr>\n",
       "    <tr>\n",
       "      <th>10</th>\n",
       "      <td>A11</td>\n",
       "      <td>9.195906</td>\n",
       "      <td>6.626139</td>\n",
       "      <td>A</td>\n",
       "      <td>11</td>\n",
       "    </tr>\n",
       "    <tr>\n",
       "      <th>11</th>\n",
       "      <td>A12</td>\n",
       "      <td>8.070175</td>\n",
       "      <td>2.439801</td>\n",
       "      <td>A</td>\n",
       "      <td>12</td>\n",
       "    </tr>\n",
       "    <tr>\n",
       "      <th>12</th>\n",
       "      <td>B1</td>\n",
       "      <td>10.847953</td>\n",
       "      <td>7.740225</td>\n",
       "      <td>B</td>\n",
       "      <td>1</td>\n",
       "    </tr>\n",
       "  </tbody>\n",
       "</table>\n",
       "</div>"
      ],
      "text/plain": [
       "   Well       FL-T       FL-K Row Column\n",
       "0    A1  10.000000   9.280000   A      1\n",
       "1    A2   5.987886   1.009489   A      2\n",
       "2    A3   6.725146   0.681101   A      3\n",
       "3    A4   7.775689   5.509620   A      4\n",
       "4    A5   7.456140   0.985164   A      5\n",
       "5    A6   8.757310  13.699858   A      6\n",
       "6    A7   6.288638  11.114107   A      7\n",
       "7    A8   8.485798   1.751402   A      8\n",
       "8    A9   7.113617   0.958406   A      9\n",
       "9   A10   6.246867  11.610338   A     10\n",
       "10  A11   9.195906   6.626139   A     11\n",
       "11  A12   8.070175   2.439801   A     12\n",
       "12   B1  10.847953   7.740225   B      1"
      ]
     },
     "execution_count": 3,
     "metadata": {},
     "output_type": "execute_result"
    }
   ],
   "source": [
    "df1[\"Row\"] = df1['Well'].str.extract('(^[A-Z])', expand = True) \n",
    "\n",
    "df1[\"Column\"] = df1['Well'].str.extract('(\\d{1,2}$)', expand = True)\n",
    "\n",
    "df1.head(13)"
   ]
  },
  {
   "cell_type": "code",
   "execution_count": 4,
   "metadata": {},
   "outputs": [
    {
     "data": {
      "text/plain": [
       "Well       object\n",
       "FL-T      float64\n",
       "FL-K      float64\n",
       "Row        object\n",
       "Column    float64\n",
       "dtype: object"
      ]
     },
     "execution_count": 4,
     "metadata": {},
     "output_type": "execute_result"
    }
   ],
   "source": [
    "# make sure that the type of all of the data are floats\n",
    "df1[['Column','FL-T', 'FL-K']] = df1[['Column','FL-T', 'FL-K']].astype(float)\n",
    "\n",
    "df1.dtypes"
   ]
  },
  {
   "cell_type": "code",
   "execution_count": 5,
   "metadata": {},
   "outputs": [],
   "source": [
    "# to create series\n",
    "Row = df1['Row']\n",
    "Tops = df1['Column']\n",
    "w = df1['FL-T']\n",
    "z = df1[\"FL-K\"]"
   ]
  },
  {
   "cell_type": "markdown",
   "metadata": {},
   "source": [
    "Scale the data by the z-score to make the data more interpretable. Because we will use z2 as a size factor in the plot. Two was added to the z2 to make all of the values positive."
   ]
  },
  {
   "cell_type": "code",
   "execution_count": 6,
   "metadata": {},
   "outputs": [
    {
     "name": "stdout",
     "output_type": "stream",
     "text": [
      "3.210238635711515 -3.8733300816082017\n",
      "5.318133860985826 0.497086147016091\n"
     ]
    }
   ],
   "source": [
    "#w2 = w*3 # scaling factor for the size of the points on the graph later\n",
    "w2 = ((df1['FL-T'] - df1['FL-T'].mean())/df1['FL-T'].std())\n",
    "\n",
    "#z2 = z*3 # scaling factor for the size of the points on the graph later\n",
    "z2 = (1.5+((df1[\"FL-K\"] - df1[\"FL-K\"].mean())/df1[\"FL-K\"].std()))\n",
    "\n",
    "print(w2.max(), w2.min())\n",
    "print(z2.max(), z2.min())"
   ]
  },
  {
   "cell_type": "markdown",
   "metadata": {},
   "source": [
    "Create plot. Comments are provided for code where necessary."
   ]
  },
  {
   "cell_type": "code",
   "execution_count": 24,
   "metadata": {},
   "outputs": [
    {
     "name": "stdout",
     "output_type": "stream",
     "text": [
      "Fluorescence Turn-on (z-score): FL-T and FL-K\n"
     ]
    },
    {
     "data": {
      "image/png": "[encoded data removed]",
      "text/plain": [
       "<Figure size 432x288 with 2 Axes>"
      ]
     },
     "metadata": {
      "needs_background": "light"
     },
     "output_type": "display_data"
    },
    {
     "data": {
      "text/plain": [
       "<Figure size 432x288 with 0 Axes>"
      ]
     },
     "metadata": {},
     "output_type": "display_data"
    }
   ],
   "source": [
    "print(\"Fluorescence Turn-on (z-score): FL-T and FL-K\")\n",
    "\n",
    "fig, ax = plt.subplots()\n",
    "\n",
    "# To select color palette\n",
    "cm = plt.cm.get_cmap('viridis_r')\n",
    "\n",
    "# To define the type of plt\n",
    "Sc_1 = plt.scatter('Column', 'Row', data = df1,\n",
    "                c=w2, cmap=cm, \n",
    "                s=z2*25, marker='o', edgecolors='black')\n",
    "\n",
    "# To set text size for ticklabels\n",
    "ax.tick_params(labelsize=14)\n",
    "\n",
    "# To reverse axis\n",
    "ax.set_ylim(ax.get_ylim()[::-1])\n",
    "\n",
    "# To design grid\n",
    "ax.grid(which='major', color='white', linewidth = 0)\n",
    "ax.grid(which='minor', linewidth = 1)\n",
    "ax.xaxis.set_major_locator(plt.MultipleLocator(1))\n",
    "ax.xaxis.set_minor_locator(plt.MultipleLocator(0.5))\n",
    "ax.yaxis.set_major_locator(plt.MultipleLocator(1))\n",
    "ax.yaxis.set_minor_locator(plt.MultipleLocator(0.5))\n",
    "ax.set_axisbelow(True)\n",
    "\n",
    "# To center the data\n",
    "plt.xlim(0.5, 12.5)\n",
    "plt.ylim(7.5, -0.5)\n",
    "\n",
    "# At this point, the plot looks nice but no legend exists\n",
    "\n",
    "# To plot the color bar\n",
    "cb = inset_axes(ax,\n",
    "                width=\"5%\", height=\"50%\", # width and height of parent_bbox\n",
    "                loc='lower left', bbox_to_anchor=(1.05, 0., 1, 1),\n",
    "                bbox_transform=ax.transAxes, borderpad=0)\n",
    "fig.colorbar(Sc_1, cax=cb, ticks= [-3, 0, 3])\n",
    "cb.set_ylabel('FL-T', fontsize = 18, rotation= 270, labelpad = 18)\n",
    "\n",
    "# To plot size legend outside of the graph\n",
    "legend_elements = [Line2D([0], [0], marker='o', color='black', label='Low intensity',\n",
    "                          markerfacecolor='w', markersize=5, lw=0),\n",
    "                  Line2D([0], [0], marker='o', color='black', label='High intensity',\n",
    "                          markerfacecolor='w', markersize=18, lw=0)]\n",
    "\n",
    "plt.legend(bbox_to_anchor=(-0.5, 2), loc=2, borderaxespad=0, # places the legend wrt the main plot\n",
    "           handles=legend_elements, # uses the defined elements above for legend_elements\n",
    "           handletextpad=1, labelspacing=1.2, \n",
    "           title=\"FL-K\", title_fontsize = 16, fontsize = 12, frameon=False)\n",
    "\n",
    "\n",
    "# to plot map\n",
    "plt.show() \n",
    "plt.clf()\n",
    "fig.savefig('test.png', bbox_inches = \"tight\")"
   ]
  },
  {
   "cell_type": "markdown",
   "metadata": {},
   "source": [
    "I didn't want a plot title, so that is excluded. \n",
    "\n",
    "Based on the plot, it looks like samples B08 (preference for FL-K probe) and B12 (preference for FL-T probe) may be interesting extremes."
   ]
  }
 ],
 "metadata": {
  "kernelspec": {
   "display_name": "Python 3",
   "language": "python",
   "name": "python3"
  },
  "language_info": {
   "codemirror_mode": {
    "name": "ipython",
    "version": 3
   },
   "file_extension": ".py",
   "mimetype": "text/x-python",
   "name": "python",
   "nbconvert_exporter": "python",
   "pygments_lexer": "ipython3",
   "version": "3.7.6"
  }
 },
 "nbformat": 4,
 "nbformat_minor": 4
}
